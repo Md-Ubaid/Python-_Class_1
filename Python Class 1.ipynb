{
 "cells": [
  {
   "cell_type": "markdown",
   "id": "a6e09b5d",
   "metadata": {},
   "source": [
    "# Python Class 1\n",
    "\n",
    "- Tutorial\n"
   ]
  },
  {
   "cell_type": "code",
   "execution_count": 1,
   "id": "93d1c01b",
   "metadata": {},
   "outputs": [
    {
     "data": {
      "text/plain": [
       "2"
      ]
     },
     "execution_count": 1,
     "metadata": {},
     "output_type": "execute_result"
    }
   ],
   "source": [
    "1+1"
   ]
  },
  {
   "cell_type": "code",
   "execution_count": 2,
   "id": "3c7593c1",
   "metadata": {},
   "outputs": [
    {
     "data": {
      "text/plain": [
       "20"
      ]
     },
     "execution_count": 2,
     "metadata": {},
     "output_type": "execute_result"
    }
   ],
   "source": [
    "4*5"
   ]
  },
  {
   "cell_type": "code",
   "execution_count": 3,
   "id": "d5d85b0c",
   "metadata": {},
   "outputs": [
    {
     "data": {
      "text/plain": [
       "5.0"
      ]
     },
     "execution_count": 3,
     "metadata": {},
     "output_type": "execute_result"
    }
   ],
   "source": [
    "10/2"
   ]
  },
  {
   "cell_type": "code",
   "execution_count": 4,
   "id": "39283dcb",
   "metadata": {},
   "outputs": [
    {
     "data": {
      "text/plain": [
       "0"
      ]
     },
     "execution_count": 4,
     "metadata": {},
     "output_type": "execute_result"
    }
   ],
   "source": [
    "10%2"
   ]
  },
  {
   "cell_type": "code",
   "execution_count": 5,
   "id": "46999ecb",
   "metadata": {},
   "outputs": [
    {
     "data": {
      "text/plain": [
       "100"
      ]
     },
     "execution_count": 5,
     "metadata": {},
     "output_type": "execute_result"
    }
   ],
   "source": [
    "10**2"
   ]
  },
  {
   "cell_type": "markdown",
   "id": "8ac0c271",
   "metadata": {},
   "source": [
    "### Check data type"
   ]
  },
  {
   "cell_type": "code",
   "execution_count": 6,
   "id": "12c9868b",
   "metadata": {},
   "outputs": [
    {
     "data": {
      "text/plain": [
       "int"
      ]
     },
     "execution_count": 6,
     "metadata": {},
     "output_type": "execute_result"
    }
   ],
   "source": [
    "type(1)"
   ]
  },
  {
   "cell_type": "code",
   "execution_count": 7,
   "id": "b63f3849",
   "metadata": {},
   "outputs": [
    {
     "data": {
      "text/plain": [
       "str"
      ]
     },
     "execution_count": 7,
     "metadata": {},
     "output_type": "execute_result"
    }
   ],
   "source": [
    "type(\"Ubaid\")"
   ]
  },
  {
   "cell_type": "code",
   "execution_count": 8,
   "id": "9b635b85",
   "metadata": {},
   "outputs": [
    {
     "data": {
      "text/plain": [
       "'UbaidUbaidUbaidUbaidUbaidUbaidUbaidUbaidUbaidUbaid'"
      ]
     },
     "execution_count": 8,
     "metadata": {},
     "output_type": "execute_result"
    }
   ],
   "source": [
    "10*\"Ubaid\""
   ]
  },
  {
   "cell_type": "code",
   "execution_count": 9,
   "id": "7bca106d",
   "metadata": {},
   "outputs": [
    {
     "data": {
      "text/plain": [
       "'ubaidmohd'"
      ]
     },
     "execution_count": 9,
     "metadata": {},
     "output_type": "execute_result"
    }
   ],
   "source": [
    "\"ubaid\"+\"mohd\""
   ]
  },
  {
   "cell_type": "code",
   "execution_count": 10,
   "id": "fd0202c8",
   "metadata": {},
   "outputs": [
    {
     "data": {
      "text/plain": [
       "bool"
      ]
     },
     "execution_count": 10,
     "metadata": {},
     "output_type": "execute_result"
    }
   ],
   "source": [
    "type(True)"
   ]
  },
  {
   "cell_type": "markdown",
   "id": "731d51f2",
   "metadata": {},
   "source": [
    "### Variable Assingment"
   ]
  },
  {
   "cell_type": "code",
   "execution_count": 11,
   "id": "68bb86a4",
   "metadata": {},
   "outputs": [],
   "source": [
    "# Syntax \n",
    "# var_name=values\n",
    "\n",
    "a=10"
   ]
  },
  {
   "cell_type": "code",
   "execution_count": 12,
   "id": "f6daefde",
   "metadata": {},
   "outputs": [],
   "source": [
    "a=\"Mohammad Ubaid\""
   ]
  },
  {
   "cell_type": "code",
   "execution_count": 13,
   "id": "f49c7ba0",
   "metadata": {},
   "outputs": [
    {
     "data": {
      "text/plain": [
       "str"
      ]
     },
     "execution_count": 13,
     "metadata": {},
     "output_type": "execute_result"
    }
   ],
   "source": [
    "type(a)"
   ]
  },
  {
   "cell_type": "code",
   "execution_count": 14,
   "id": "30a9b8db",
   "metadata": {},
   "outputs": [],
   "source": [
    "## Mathematical operation with Variable Assingment"
   ]
  },
  {
   "cell_type": "code",
   "execution_count": 15,
   "id": "a211989d",
   "metadata": {},
   "outputs": [],
   "source": [
    "a=10\n",
    "b=20"
   ]
  },
  {
   "cell_type": "code",
   "execution_count": 16,
   "id": "117aeb18",
   "metadata": {},
   "outputs": [
    {
     "name": "stdout",
     "output_type": "stream",
     "text": [
      "200\n",
      "0.5\n",
      "10\n",
      "200.5\n"
     ]
    }
   ],
   "source": [
    "print(a*b)\n",
    "print(a/b)\n",
    "print(a%b)\n",
    "print((a*b)+(a/b)) #BODMAS"
   ]
  },
  {
   "cell_type": "code",
   "execution_count": 17,
   "id": "153a9522",
   "metadata": {},
   "outputs": [],
   "source": [
    "## Various Ways of Printing"
   ]
  },
  {
   "cell_type": "code",
   "execution_count": 18,
   "id": "d059f19f",
   "metadata": {},
   "outputs": [
    {
     "name": "stdout",
     "output_type": "stream",
     "text": [
      "Hello\n"
     ]
    }
   ],
   "source": [
    "print(\"Hello\")"
   ]
  },
  {
   "cell_type": "code",
   "execution_count": 19,
   "id": "81167d4d",
   "metadata": {},
   "outputs": [],
   "source": [
    "first_name='Mohammad'\n",
    "last_name='Ubaid'"
   ]
  },
  {
   "cell_type": "code",
   "execution_count": 20,
   "id": "f88db8c6",
   "metadata": {},
   "outputs": [
    {
     "name": "stdout",
     "output_type": "stream",
     "text": [
      "My first name is Mohammad and last name is Ubaid\n"
     ]
    }
   ],
   "source": [
    "print('My first name is {} and last name is {}'.format(first_name,last_name))"
   ]
  },
  {
   "cell_type": "code",
   "execution_count": 21,
   "id": "c762507b",
   "metadata": {
    "scrolled": true
   },
   "outputs": [
    {
     "name": "stdout",
     "output_type": "stream",
     "text": [
      "My first name is Mohammad and last name is Ubaid\n"
     ]
    }
   ],
   "source": [
    "print('My first name is {a} and last name is {b}'.format(a=first_name,b=last_name))"
   ]
  },
  {
   "cell_type": "code",
   "execution_count": 22,
   "id": "d3447d39",
   "metadata": {},
   "outputs": [
    {
     "data": {
      "text/plain": [
       "14"
      ]
     },
     "execution_count": 22,
     "metadata": {},
     "output_type": "execute_result"
    }
   ],
   "source": [
    "len('Mohammad Ubaid')"
   ]
  },
  {
   "cell_type": "code",
   "execution_count": 23,
   "id": "bb6da06f",
   "metadata": {},
   "outputs": [
    {
     "data": {
      "text/plain": [
       "list"
      ]
     },
     "execution_count": 23,
     "metadata": {},
     "output_type": "execute_result"
    }
   ],
   "source": [
    "type([1,2,3,4,5])"
   ]
  }
 ],
 "metadata": {
  "kernelspec": {
   "display_name": "Python 3 (ipykernel)",
   "language": "python",
   "name": "python3"
  },
  "language_info": {
   "codemirror_mode": {
    "name": "ipython",
    "version": 3
   },
   "file_extension": ".py",
   "mimetype": "text/x-python",
   "name": "python",
   "nbconvert_exporter": "python",
   "pygments_lexer": "ipython3",
   "version": "3.11.2"
  }
 },
 "nbformat": 4,
 "nbformat_minor": 5
}
